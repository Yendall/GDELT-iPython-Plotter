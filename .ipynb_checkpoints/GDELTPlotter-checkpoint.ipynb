{
 "cells": [
  {
   "cell_type": "code",
   "execution_count": null,
   "metadata": {
    "collapsed": true
   },
   "outputs": [],
   "source": [
    "\n",
    "import blaze as bz\n",
    "import pandas as pd\n",
    "import holoviews as hv\n",
    "\n",
    "# Load external holoviews module in iPython\n",
    "# Using Jupyter Virtual Python Environment with in-line graphics\n",
    "# visualisation\n",
    "%load_ext holoviews.ipython\n",
    "%output size=600\n",
    "\n",
    "# Load MapReduce information into blaze data structure\n",
    "# Using custom header based on MapReduce implementation results\n",
    "data_split = bz.Data('data.csv')\n",
    "\n",
    "# Set alpha and overlay aspect ratios\n",
    "%opts Points (alpha=0.8 s=100) Overlay [aspect=1.7]\n",
    "\n",
    "# Define negative Goldstein events from sub-negative to very negative\n",
    "# Generally, Goldstein levels are negative, so positivity is hard to\n",
    "# come by. Average tone may be a better metric\n",
    "negative = data_split[(data_split.Goldstein > -5)]\n",
    "positive = data_split[(data_split.Goldstein < -4)]\n",
    "\n",
    "# Read negative and positive data into a Pandas DataFrame\n",
    "negative = bz.into(pd.DataFrame, negative[['Longitude','Latitude']]).values\n",
    "positive = bz.into(pd.DataFrame, positive[['Longitude','Latitude']]).values\n",
    "\n",
    "# Display Holoviews labels overlay on Pandas model map\n",
    "(hv.Points(positive, label=\"Positive Goldstein\") * \\\n",
    " hv.Points(negative,   label=\"Negative Goldstein\")).relabel(\n",
    " \"GDELT Goldstein Levels for Environment and Greenpeace Events (2015)\")"
   ]
  }
 ],
 "metadata": {
  "kernelspec": {
   "display_name": "Python 3",
   "language": "python",
   "name": "python3"
  },
  "language_info": {
   "codemirror_mode": {
    "name": "ipython",
    "version": 3
   },
   "file_extension": ".py",
   "mimetype": "text/x-python",
   "name": "python",
   "nbconvert_exporter": "python",
   "pygments_lexer": "ipython3",
   "version": "3.5.1"
  }
 },
 "nbformat": 4,
 "nbformat_minor": 1
}
